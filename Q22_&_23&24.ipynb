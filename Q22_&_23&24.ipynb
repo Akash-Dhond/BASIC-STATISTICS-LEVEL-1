{
  "nbformat": 4,
  "nbformat_minor": 0,
  "metadata": {
    "colab": {
      "provenance": []
    },
    "kernelspec": {
      "name": "python3",
      "display_name": "Python 3"
    },
    "language_info": {
      "name": "python"
    }
  },
  "cells": [
    {
      "cell_type": "markdown",
      "source": [
        "# Q22\n"
      ],
      "metadata": {
        "id": "vqGCLCmPpkVo"
      }
    },
    {
      "cell_type": "code",
      "source": [
        "# code snippet to calculate z scores\n",
        "from scipy import stats\n",
        "print('90% confidence interval z-score: ',round(stats.norm.ppf(0.95),2))\n",
        "print('94% confidence interval z-score: ',round(stats.norm.ppf(0.97),2))\n",
        "print('60% confidence interval z-score: ',round(stats.norm.ppf(0.80),2))"
      ],
      "metadata": {
        "colab": {
          "base_uri": "https://localhost:8080/"
        },
        "id": "bY4l92XoprUR",
        "outputId": "763712c5-b25a-4c42-df57-1323540eac71"
      },
      "execution_count": 68,
      "outputs": [
        {
          "output_type": "stream",
          "name": "stdout",
          "text": [
            "90% confidence interval z-score:  1.64\n",
            "94% confidence interval z-score:  1.88\n",
            "60% confidence interval z-score:  0.84\n"
          ]
        }
      ]
    },
    {
      "cell_type": "markdown",
      "source": [
        "#Q23\n"
      ],
      "metadata": {
        "id": "fkuRodKapnsf"
      }
    },
    {
      "cell_type": "code",
      "source": [
        "# code snippet to calculate t scores at given confidence intervals\n",
        "from scipy import stats\n",
        "print('95% confidence interval t-score: ',round(stats.t.ppf(0.975,24),2))\n",
        "print('96% confidence interval t-score: ',round(stats.t.ppf(0.98,24),2))\n",
        "print('99% confidence interval t-score: ',round(stats.t.ppf(0.995,24),2))"
      ],
      "metadata": {
        "colab": {
          "base_uri": "https://localhost:8080/"
        },
        "id": "0X25hd4Sptc4",
        "outputId": "ce06cbab-73c6-46e3-f7b6-f4e22bae0a9e"
      },
      "execution_count": 69,
      "outputs": [
        {
          "output_type": "stream",
          "name": "stdout",
          "text": [
            "95% confidence interval t-score:  2.06\n",
            "96% confidence interval t-score:  2.17\n",
            "99% confidence interval t-score:  2.8\n"
          ]
        }
      ]
    },
    {
      "cell_type": "markdown",
      "source": [
        "#Q24"
      ],
      "metadata": {
        "id": "V72aCmS9qkfo"
      }
    },
    {
      "cell_type": "code",
      "source": [
        "from scipy import stats\n",
        "from scipy.stats import norm"
      ],
      "metadata": {
        "id": "STmRTZCMqoVB"
      },
      "execution_count": 70,
      "outputs": []
    },
    {
      "cell_type": "code",
      "source": [
        "# find t-scores at x=260; t=(s_mean-P_mean)/(s_SD/sqrt(n))\n",
        "t=(260-270)/(90/18**0.5)\n",
        "t"
      ],
      "metadata": {
        "colab": {
          "base_uri": "https://localhost:8080/"
        },
        "id": "eOgyOtABqrtI",
        "outputId": "c221ad05-a1cb-4dc7-8d99-49d07d25986d"
      },
      "execution_count": 71,
      "outputs": [
        {
          "output_type": "execute_result",
          "data": {
            "text/plain": [
              "-0.4714045207910317"
            ]
          },
          "metadata": {},
          "execution_count": 71
        }
      ]
    },
    {
      "cell_type": "code",
      "source": [
        "# p_value=1-stats.t.cdf(abs(t_scores),df=n-1)... Using cdf function\n",
        "p_value=1-stats.t.cdf(abs(-0.4714),df=17)\n",
        "p_value"
      ],
      "metadata": {
        "colab": {
          "base_uri": "https://localhost:8080/"
        },
        "id": "fcbn66OnqtmI",
        "outputId": "c775d62d-70f9-4112-ed9d-9bc19e72e767"
      },
      "execution_count": 72,
      "outputs": [
        {
          "output_type": "execute_result",
          "data": {
            "text/plain": [
              "0.32167411684460556"
            ]
          },
          "metadata": {},
          "execution_count": 72
        }
      ]
    },
    {
      "cell_type": "code",
      "source": [
        "#  OR p_value=stats.t.sf(abs(t_score),df=n-1)... Using sf function\n",
        "p_value=stats.t.sf(abs(-0.4714),df=17)\n",
        "p_value"
      ],
      "metadata": {
        "colab": {
          "base_uri": "https://localhost:8080/"
        },
        "id": "ywcwtaM1qwyR",
        "outputId": "84d7692e-1117-4c98-a1e2-45a2d56f649b"
      },
      "execution_count": 73,
      "outputs": [
        {
          "output_type": "execute_result",
          "data": {
            "text/plain": [
              "0.32167411684460556"
            ]
          },
          "metadata": {},
          "execution_count": 73
        }
      ]
    }
  ]
}